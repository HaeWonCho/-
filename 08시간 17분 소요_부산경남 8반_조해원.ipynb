{
 "cells": [
  {
   "cell_type": "markdown",
   "id": "a007ce96-6c46-4e69-a7ea-6929ba8ca0fa",
   "metadata": {},
   "source": [
    "# 추석 교통 소요시간 예측\n",
    "\n",
    "- 사용 데이터\n",
    "    - 한국도로공사 고속도로 공공데이터 포털, 영업소간 통행시간\n",
    "        - 2013년 2월 ~ 2022년 2월 데이터 중 추석, 설날 연휴 첫째 날 데이터\n",
    "    - 공휴일 수 데이터\n",
    "        - 공휴일의 경우 주말을 포함한 연휴, 징검다리 연휴의 경우 연휴일에 포함\n",
    "    - 날씨 데이터, 기상청 날씨 누리 일별 날씨 자료\n",
    "    "
   ]
  },
  {
   "cell_type": "markdown",
   "id": "0e1888cf-db42-4025-b585-5e8bbf1d6afa",
   "metadata": {},
   "source": [
    "### 1. 데이터 준비"
   ]
  },
  {
   "cell_type": "code",
   "execution_count": 1,
   "id": "7a3f82ba-1fce-4b45-b045-c11652dfd751",
   "metadata": {},
   "outputs": [],
   "source": [
    "import pandas as pd"
   ]
  },
  {
   "cell_type": "code",
   "execution_count": 2,
   "id": "f4258d0f-daf9-40c4-bbe0-c11692f6f294",
   "metadata": {},
   "outputs": [
    {
     "data": {
      "text/html": [
       "<div>\n",
       "<style scoped>\n",
       "    .dataframe tbody tr th:only-of-type {\n",
       "        vertical-align: middle;\n",
       "    }\n",
       "\n",
       "    .dataframe tbody tr th {\n",
       "        vertical-align: top;\n",
       "    }\n",
       "\n",
       "    .dataframe thead th {\n",
       "        text-align: right;\n",
       "    }\n",
       "</style>\n",
       "<table border=\"1\" class=\"dataframe\">\n",
       "  <thead>\n",
       "    <tr style=\"text-align: right;\">\n",
       "      <th></th>\n",
       "      <th>집계일자</th>\n",
       "      <th>집계시</th>\n",
       "      <th>출발영업소코드</th>\n",
       "      <th>도착영업소코드</th>\n",
       "      <th>TCS차종구분코드</th>\n",
       "      <th>통행시간</th>\n",
       "      <th>Unnamed: 6</th>\n",
       "    </tr>\n",
       "  </thead>\n",
       "  <tbody>\n",
       "    <tr>\n",
       "      <th>0</th>\n",
       "      <td>20220129</td>\n",
       "      <td>21</td>\n",
       "      <td>0</td>\n",
       "      <td>101</td>\n",
       "      <td>1</td>\n",
       "      <td>-1</td>\n",
       "      <td>NaN</td>\n",
       "    </tr>\n",
       "    <tr>\n",
       "      <th>1</th>\n",
       "      <td>20220129</td>\n",
       "      <td>16</td>\n",
       "      <td>0</td>\n",
       "      <td>101</td>\n",
       "      <td>3</td>\n",
       "      <td>-1</td>\n",
       "      <td>NaN</td>\n",
       "    </tr>\n",
       "    <tr>\n",
       "      <th>2</th>\n",
       "      <td>20220129</td>\n",
       "      <td>16</td>\n",
       "      <td>0</td>\n",
       "      <td>101</td>\n",
       "      <td>1</td>\n",
       "      <td>-1</td>\n",
       "      <td>NaN</td>\n",
       "    </tr>\n",
       "    <tr>\n",
       "      <th>3</th>\n",
       "      <td>20220129</td>\n",
       "      <td>21</td>\n",
       "      <td>0</td>\n",
       "      <td>101</td>\n",
       "      <td>3</td>\n",
       "      <td>-1</td>\n",
       "      <td>NaN</td>\n",
       "    </tr>\n",
       "    <tr>\n",
       "      <th>4</th>\n",
       "      <td>20220129</td>\n",
       "      <td>13</td>\n",
       "      <td>0</td>\n",
       "      <td>101</td>\n",
       "      <td>1</td>\n",
       "      <td>-1</td>\n",
       "      <td>NaN</td>\n",
       "    </tr>\n",
       "  </tbody>\n",
       "</table>\n",
       "</div>"
      ],
      "text/plain": [
       "       집계일자  집계시  출발영업소코드  도착영업소코드  TCS차종구분코드  통행시간  Unnamed: 6\n",
       "0  20220129   21        0      101          1    -1         NaN\n",
       "1  20220129   16        0      101          3    -1         NaN\n",
       "2  20220129   16        0      101          1    -1         NaN\n",
       "3  20220129   21        0      101          3    -1         NaN\n",
       "4  20220129   13        0      101          1    -1         NaN"
      ]
     },
     "execution_count": 2,
     "metadata": {},
     "output_type": "execute_result"
    }
   ],
   "source": [
    "# 데이터 병합을 위해 첫번째 데이터 불러오기\n",
    "data = pd.read_csv('20220129.csv')\n",
    "\n",
    "# 데이터 확인\n",
    "data.head()"
   ]
  },
  {
   "cell_type": "code",
   "execution_count": 3,
   "id": "b3a8e9e7-08e1-404e-948b-a54844e3b5fb",
   "metadata": {},
   "outputs": [],
   "source": [
    "# 불필요한 컬럼 제거\n",
    "del_cols = ['TCS차종구분코드','Unnamed: 6']\n",
    "data.drop(del_cols, axis = 1, inplace = True)\n"
   ]
  },
  {
   "cell_type": "markdown",
   "id": "c7ee92a5-5f34-4a7a-b18b-aa7e8123fc5e",
   "metadata": {},
   "source": [
    "- 2020년부터 2022년까지는 동일한 데이터 포맷을 사용\n",
    "- 2012년~2019년 데이터는 컬럼명이 없고 데이터가 '|'로 구분 "
   ]
  },
  {
   "cell_type": "code",
   "execution_count": 4,
   "id": "93dfc167-7a0f-48e9-b845-fb07ae1a835d",
   "metadata": {},
   "outputs": [],
   "source": [
    "csv_list = ['20210918.csv','20210211.csv','20200930.csv','20200124.csv']\n",
    "for i in csv_list:\n",
    "    data_temp = pd.read_csv(i)\n",
    "    del_cols = ['TCS차종구분코드','Unnamed: 6']\n",
    "    data_temp.drop(del_cols, axis = 1, inplace = True)\n",
    "    data = pd.concat([data, data_temp])"
   ]
  },
  {
   "cell_type": "code",
   "execution_count": 5,
   "id": "780d7e6c-c1b7-4031-806d-68507018cf2f",
   "metadata": {},
   "outputs": [],
   "source": [
    "csv_list = ['20190912.csv','20190202.csv','20180922.csv','20180215.csv',\n",
    "            '20171003.csv','20170127.csv','20160914.csv','20160206.csv',\n",
    "            '20150926.csv','20150218.csv','20140906.csv','20140130.csv',\n",
    "            '20130918.csv','20130209.csv']\n",
    "\n",
    "for i in csv_list:\n",
    "    data_temp = pd.read_csv(i,sep='|', header = None)\n",
    "    del_cols = [4,6]\n",
    "    data_temp.drop(del_cols, axis = 1, inplace = True)\n",
    "    data_temp.columns = list(data)\n",
    "    data = pd.concat([data, data_temp])"
   ]
  },
  {
   "cell_type": "code",
   "execution_count": 6,
   "id": "ce3186cb-83d9-4052-a2f3-31d55b284dd4",
   "metadata": {},
   "outputs": [
    {
     "data": {
      "text/html": [
       "<div>\n",
       "<style scoped>\n",
       "    .dataframe tbody tr th:only-of-type {\n",
       "        vertical-align: middle;\n",
       "    }\n",
       "\n",
       "    .dataframe tbody tr th {\n",
       "        vertical-align: top;\n",
       "    }\n",
       "\n",
       "    .dataframe thead th {\n",
       "        text-align: right;\n",
       "    }\n",
       "</style>\n",
       "<table border=\"1\" class=\"dataframe\">\n",
       "  <thead>\n",
       "    <tr style=\"text-align: right;\">\n",
       "      <th></th>\n",
       "      <th>집계일자</th>\n",
       "      <th>집계시</th>\n",
       "      <th>출발영업소코드</th>\n",
       "      <th>도착영업소코드</th>\n",
       "      <th>통행시간</th>\n",
       "    </tr>\n",
       "  </thead>\n",
       "  <tbody>\n",
       "    <tr>\n",
       "      <th>546237</th>\n",
       "      <td>20130209</td>\n",
       "      <td>2</td>\n",
       "      <td>255</td>\n",
       "      <td>254</td>\n",
       "      <td>350</td>\n",
       "    </tr>\n",
       "    <tr>\n",
       "      <th>546238</th>\n",
       "      <td>20130209</td>\n",
       "      <td>6</td>\n",
       "      <td>641</td>\n",
       "      <td>560</td>\n",
       "      <td>12444</td>\n",
       "    </tr>\n",
       "    <tr>\n",
       "      <th>546239</th>\n",
       "      <td>20130209</td>\n",
       "      <td>3</td>\n",
       "      <td>244</td>\n",
       "      <td>147</td>\n",
       "      <td>1224</td>\n",
       "    </tr>\n",
       "    <tr>\n",
       "      <th>546240</th>\n",
       "      <td>20130209</td>\n",
       "      <td>3</td>\n",
       "      <td>135</td>\n",
       "      <td>522</td>\n",
       "      <td>8415</td>\n",
       "    </tr>\n",
       "    <tr>\n",
       "      <th>546241</th>\n",
       "      <td>20130209</td>\n",
       "      <td>20</td>\n",
       "      <td>153</td>\n",
       "      <td>275</td>\n",
       "      <td>6895</td>\n",
       "    </tr>\n",
       "  </tbody>\n",
       "</table>\n",
       "</div>"
      ],
      "text/plain": [
       "            집계일자  집계시  출발영업소코드  도착영업소코드   통행시간\n",
       "546237  20130209    2      255      254    350\n",
       "546238  20130209    6      641      560  12444\n",
       "546239  20130209    3      244      147   1224\n",
       "546240  20130209    3      135      522   8415\n",
       "546241  20130209   20      153      275   6895"
      ]
     },
     "execution_count": 6,
     "metadata": {},
     "output_type": "execute_result"
    }
   ],
   "source": [
    "data.tail()"
   ]
  },
  {
   "cell_type": "markdown",
   "id": "c1de7d75-2d68-4c0b-ba94-b7678e9e55be",
   "metadata": {},
   "source": [
    "### 2. 데이터 전처리"
   ]
  },
  {
   "cell_type": "code",
   "execution_count": 7,
   "id": "f16147ac-cd0b-42c1-a600-6245d34ae69e",
   "metadata": {},
   "outputs": [],
   "source": [
    "data = data.loc[(data['출발영업소코드']==101) & (data['도착영업소코드']==140)]\n",
    "data = data.loc[(data['통행시간'] != -1)]"
   ]
  },
  {
   "cell_type": "code",
   "execution_count": 8,
   "id": "b44d913f-ffcc-48dd-b1de-014b9992e700",
   "metadata": {},
   "outputs": [],
   "source": [
    "import time\n",
    "from datetime import timedelta\n",
    "import datetime\n",
    "\n",
    "def seconds_to_datetime(seconds, format='%H:%M:%S'):\n",
    "    td = timedelta(seconds=seconds)\n",
    "    time_obj = time.gmtime(td.total_seconds())\n",
    "    return time.strftime(format, time_obj)\n",
    "\n",
    "def hours_to_datetime(hours, format='%H:%M:%S'):\n",
    "    td = timedelta(hours=hours)\n",
    "    time_obj = time.gmtime(td.total_seconds())\n",
    "    return time.strftime(format, time_obj)\n",
    "\n",
    "def timedelta_to_datetime(td, format='%H:%M:%S'):\n",
    "    time_obj = time.gmtime(td.total_seconds())\n",
    "    return time.strftime(format, time_obj)"
   ]
  },
  {
   "cell_type": "code",
   "execution_count": 9,
   "id": "ac389af5-59b8-450a-a4f3-4a15d3db12cf",
   "metadata": {},
   "outputs": [],
   "source": [
    "data['통행시간'] = data['통행시간'].apply(lambda _ : seconds_to_datetime(_))\n",
    "data['통행시간'] = data['통행시간'].apply(lambda _ : datetime.datetime.strptime( _, '%H:%M:%S'))\n",
    "\n",
    "data['집계시'] = data['집계시'].apply(lambda _: hours_to_datetime(_))\n",
    "data['집계시'] = data['집계시'].apply(lambda _ :  datetime.datetime.strptime(_, '%H:%M:%S'))\n",
    "\n",
    "data['출발시간'] = data['집계시'] - data['통행시간']\n",
    "data['출발시간'] = data['출발시간'].apply(lambda _ : timedelta_to_datetime(_))\n",
    "data['출발시간'] = data['출발시간'].apply(lambda _ :  datetime.datetime.strptime(_, '%H:%M:%S'))\n",
    "\n",
    "data['출발시'] = data['출발시간'].dt.hour\n",
    "data['출발시'] = data['출발시'].apply(lambda _: hours_to_datetime(_))\n",
    "data['출발시'] = data['출발시'].apply(lambda _ :  datetime.datetime.strptime(_, '%H:%M:%S'))\n",
    "\n",
    "data['통행시간'] = data['통행시간'].apply(lambda x: x.strftime('%H:%M:%S'))\n",
    "data['출발시'] = data['출발시'].apply(lambda x: x.strftime('%H:%M:%S'))\n"
   ]
  },
  {
   "cell_type": "code",
   "execution_count": 10,
   "id": "a07c383f-bfb0-416f-92de-911c95d7f013",
   "metadata": {},
   "outputs": [],
   "source": [
    "del_cols = ['집계시', '출발영업소코드','도착영업소코드','출발시간']\n",
    "data.drop(del_cols, axis = 1, inplace =True)\n",
    "\n",
    "data = data[['집계일자','출발시','통행시간']]\n",
    "\n",
    "data = data.loc[data['출발시'] == '12:00:00']\n",
    "\n",
    "index1 = data[data['통행시간'] == '00:00:00'].index\n",
    "data.drop(index1, inplace = True)\n",
    "\n",
    "data.reset_index(drop = True, inplace = True)"
   ]
  },
  {
   "cell_type": "code",
   "execution_count": 11,
   "id": "2cebab60-4218-4af5-b4ba-b0c52350c1ef",
   "metadata": {},
   "outputs": [],
   "source": [
    "data['통행시간'] = pd.to_timedelta(data['통행시간'])\n",
    "data['통행시간_초'] = data['통행시간'].dt.total_seconds()"
   ]
  },
  {
   "cell_type": "code",
   "execution_count": 12,
   "id": "a6c0848c-fc79-4f25-980c-32b7280950fd",
   "metadata": {},
   "outputs": [],
   "source": [
    "data['통행시간_초'] = data['통행시간_초'].astype(int)\n",
    "data = data.groupby(by = '집계일자', as_index = False)['통행시간_초'].mean()\n"
   ]
  },
  {
   "cell_type": "code",
   "execution_count": 13,
   "id": "e900821a-6b56-4acf-8cd3-9c30ec496e43",
   "metadata": {},
   "outputs": [],
   "source": [
    "data['통행시간_초'] = data['통행시간_초'].astype(int)\n",
    "data['집계일자'] = data['집계일자'].astype(str)"
   ]
  },
  {
   "cell_type": "code",
   "execution_count": 14,
   "id": "936e40af-5b1c-4763-98dc-f9db30bbc8e2",
   "metadata": {},
   "outputs": [],
   "source": [
    "# 설날 추석\n",
    "holiday_type = [0,1,0,1,0,1,0,1,0,1,0,1,0,1,0,1,0,1,0]\n",
    "holiday_type = pd.DataFrame(holiday_type)\n",
    "data['설날_추석'] = holiday_type"
   ]
  },
  {
   "cell_type": "code",
   "execution_count": 15,
   "id": "d98e195b-6735-47a4-a4a2-ac9ec2babb8f",
   "metadata": {},
   "outputs": [],
   "source": [
    "holiday = [3,5,4,4,5,3,4,5,3,3,4,4,5,5,4,5,4,5,5]\n",
    "\n",
    "holiday = pd.DataFrame(holiday)\n",
    "data['공휴일수'] = holiday"
   ]
  },
  {
   "cell_type": "code",
   "execution_count": 16,
   "id": "59f1ec64-29a9-435f-8066-87228ee12b63",
   "metadata": {},
   "outputs": [],
   "source": [
    "# 없음 0 연무 1 비 2\n",
    "weather = [0, 0, 0, 0, 1, 1, 0, 0, 0, 0, 0, 1, 1, 1, 0, 1, 0, 0, 0]\n",
    "\n",
    "weather = pd.DataFrame(weather)\n",
    "data['날씨'] = weather"
   ]
  },
  {
   "cell_type": "code",
   "execution_count": 17,
   "id": "bc823029-7c86-4d00-b5fc-c0cab1df34c3",
   "metadata": {},
   "outputs": [],
   "source": [
    "data = data.loc[data['설날_추석'] == 1]"
   ]
  },
  {
   "cell_type": "code",
   "execution_count": 18,
   "id": "b74ea23e-75df-4719-8792-c6f3efa3cddb",
   "metadata": {},
   "outputs": [],
   "source": [
    "new_year = [20783,24272,25564,22261,22396,27489,18358,22559,20953]\n",
    "new_year = pd.DataFrame(new_year)\n",
    "data.reset_index(drop = True, inplace = True)\n",
    "data['new_year'] = new_year"
   ]
  },
  {
   "cell_type": "code",
   "execution_count": 19,
   "id": "7c3add7b-26a9-4f57-8ed8-7aeca85e572e",
   "metadata": {},
   "outputs": [
    {
     "data": {
      "text/plain": [
       "[]"
      ]
     },
     "execution_count": 19,
     "metadata": {},
     "output_type": "execute_result"
    },
    {
     "data": {
      "image/png": "[encoded data removed]",
      "text/plain": [
       "<Figure size 1440x1440 with 1 Axes>"
      ]
     },
     "metadata": {
      "needs_background": "light"
     },
     "output_type": "display_data"
    }
   ],
   "source": [
    "import matplotlib.pyplot as plt\n",
    "import seaborn as sns\n",
    "\n",
    "plt.figure(figsize=(20,20))\n",
    "plt.bar(x = data['집계일자'],height = data['통행시간_초'])\n",
    "plt.plot()"
   ]
  },
  {
   "cell_type": "code",
   "execution_count": 20,
   "id": "b11166f9-9795-4ca3-9ca3-50c7712a5bbc",
   "metadata": {},
   "outputs": [
    {
     "data": {
      "text/plain": [
       "(-0.4062491965189492, 0.27793359185383804)"
      ]
     },
     "execution_count": 20,
     "metadata": {},
     "output_type": "execute_result"
    }
   ],
   "source": [
    "import scipy.stats as spst\n",
    "spst.pearsonr(data['new_year'], data['통행시간_초'])"
   ]
  },
  {
   "cell_type": "code",
   "execution_count": 21,
   "id": "2416925b-bad9-47c4-a247-1b80efefd21a",
   "metadata": {},
   "outputs": [
    {
     "data": {
      "image/png": "[encoded data removed]",
      "text/plain": [
       "<Figure size 432x288 with 1 Axes>"
      ]
     },
     "metadata": {
      "needs_background": "light"
     },
     "output_type": "display_data"
    }
   ],
   "source": [
    "plt.scatter('날씨', '통행시간_초', data = data)\n",
    "plt.show()"
   ]
  },
  {
   "cell_type": "code",
   "execution_count": 22,
   "id": "ac9e82b6-b9c6-4298-a9ff-ed978ee17726",
   "metadata": {},
   "outputs": [
    {
     "data": {
      "image/png": "[encoded data removed]",
      "text/plain": [
       "<Figure size 432x288 with 1 Axes>"
      ]
     },
     "metadata": {
      "needs_background": "light"
     },
     "output_type": "display_data"
    }
   ],
   "source": [
    "plt.scatter('공휴일수', '통행시간_초', data = data)\n",
    "plt.show()"
   ]
  },
  {
   "cell_type": "markdown",
   "id": "88c698a0-5986-44e3-9670-1757b4dd8fe9",
   "metadata": {},
   "source": [
    "모델 학습"
   ]
  },
  {
   "cell_type": "code",
   "execution_count": 23,
   "id": "c171e145-eca2-45ae-836e-fd09a2a345d0",
   "metadata": {},
   "outputs": [],
   "source": [
    "# 날씨 데이터는 모델 성능을 저하시켜 제외\n",
    "\n",
    "data = data[['공휴일수','new_year','통행시간_초']]"
   ]
  },
  {
   "cell_type": "code",
   "execution_count": 25,
   "id": "9dba27ac-a97e-4b93-b9dd-40e82a0deb44",
   "metadata": {},
   "outputs": [],
   "source": [
    "target = '통행시간_초'\n",
    "\n",
    "x = data.drop(target, axis = 1)\n",
    "y = data.loc[:,target]"
   ]
  },
  {
   "cell_type": "code",
   "execution_count": 26,
   "id": "e35b5d9d-8185-4a69-8ed7-a38351415e4b",
   "metadata": {},
   "outputs": [],
   "source": [
    "from sklearn.model_selection import train_test_split\n",
    "\n",
    "x_train, x_test, y_train, y_test = train_test_split(x, y, test_size = 0.3)"
   ]
  },
  {
   "cell_type": "code",
   "execution_count": 27,
   "id": "9163a31c-f1b9-491b-ad6e-8d80aaca26c9",
   "metadata": {},
   "outputs": [],
   "source": [
    "from sklearn.linear_model import LinearRegression\n",
    "from sklearn.metrics import mean_absolute_error, r2_score"
   ]
  },
  {
   "cell_type": "code",
   "execution_count": 71,
   "id": "28005b26-a91c-4d5a-883c-5c576a131062",
   "metadata": {},
   "outputs": [],
   "source": [
    "model1 = LinearRegression()"
   ]
  },
  {
   "cell_type": "code",
   "execution_count": 72,
   "id": "1cebc929-f25d-4460-8eba-2642a3b235fc",
   "metadata": {},
   "outputs": [
    {
     "data": {
      "text/html": [
       "<style>#sk-container-id-7 {color: black;background-color: white;}#sk-container-id-7 pre{padding: 0;}#sk-container-id-7 div.sk-toggleable {background-color: white;}#sk-container-id-7 label.sk-toggleable__label {cursor: pointer;display: block;width: 100%;margin-bottom: 0;padding: 0.3em;box-sizing: border-box;text-align: center;}#sk-container-id-7 label.sk-toggleable__label-arrow:before {content: \"▸\";float: left;margin-right: 0.25em;color: #696969;}#sk-container-id-7 label.sk-toggleable__label-arrow:hover:before {color: black;}#sk-container-id-7 div.sk-estimator:hover label.sk-toggleable__label-arrow:before {color: black;}#sk-container-id-7 div.sk-toggleable__content {max-height: 0;max-width: 0;overflow: hidden;text-align: left;background-color: #f0f8ff;}#sk-container-id-7 div.sk-toggleable__content pre {margin: 0.2em;color: black;border-radius: 0.25em;background-color: #f0f8ff;}#sk-container-id-7 input.sk-toggleable__control:checked~div.sk-toggleable__content {max-height: 200px;max-width: 100%;overflow: auto;}#sk-container-id-7 input.sk-toggleable__control:checked~label.sk-toggleable__label-arrow:before {content: \"▾\";}#sk-container-id-7 div.sk-estimator input.sk-toggleable__control:checked~label.sk-toggleable__label {background-color: #d4ebff;}#sk-container-id-7 div.sk-label input.sk-toggleable__control:checked~label.sk-toggleable__label {background-color: #d4ebff;}#sk-container-id-7 input.sk-hidden--visually {border: 0;clip: rect(1px 1px 1px 1px);clip: rect(1px, 1px, 1px, 1px);height: 1px;margin: -1px;overflow: hidden;padding: 0;position: absolute;width: 1px;}#sk-container-id-7 div.sk-estimator {font-family: monospace;background-color: #f0f8ff;border: 1px dotted black;border-radius: 0.25em;box-sizing: border-box;margin-bottom: 0.5em;}#sk-container-id-7 div.sk-estimator:hover {background-color: #d4ebff;}#sk-container-id-7 div.sk-parallel-item::after {content: \"\";width: 100%;border-bottom: 1px solid gray;flex-grow: 1;}#sk-container-id-7 div.sk-label:hover label.sk-toggleable__label {background-color: #d4ebff;}#sk-container-id-7 div.sk-serial::before {content: \"\";position: absolute;border-left: 1px solid gray;box-sizing: border-box;top: 0;bottom: 0;left: 50%;z-index: 0;}#sk-container-id-7 div.sk-serial {display: flex;flex-direction: column;align-items: center;background-color: white;padding-right: 0.2em;padding-left: 0.2em;position: relative;}#sk-container-id-7 div.sk-item {position: relative;z-index: 1;}#sk-container-id-7 div.sk-parallel {display: flex;align-items: stretch;justify-content: center;background-color: white;position: relative;}#sk-container-id-7 div.sk-item::before, #sk-container-id-7 div.sk-parallel-item::before {content: \"\";position: absolute;border-left: 1px solid gray;box-sizing: border-box;top: 0;bottom: 0;left: 50%;z-index: -1;}#sk-container-id-7 div.sk-parallel-item {display: flex;flex-direction: column;z-index: 1;position: relative;background-color: white;}#sk-container-id-7 div.sk-parallel-item:first-child::after {align-self: flex-end;width: 50%;}#sk-container-id-7 div.sk-parallel-item:last-child::after {align-self: flex-start;width: 50%;}#sk-container-id-7 div.sk-parallel-item:only-child::after {width: 0;}#sk-container-id-7 div.sk-dashed-wrapped {border: 1px dashed gray;margin: 0 0.4em 0.5em 0.4em;box-sizing: border-box;padding-bottom: 0.4em;background-color: white;}#sk-container-id-7 div.sk-label label {font-family: monospace;font-weight: bold;display: inline-block;line-height: 1.2em;}#sk-container-id-7 div.sk-label-container {text-align: center;}#sk-container-id-7 div.sk-container {/* jupyter's `normalize.less` sets `[hidden] { display: none; }` but bootstrap.min.css set `[hidden] { display: none !important; }` so we also need the `!important` here to be able to override the default hidden behavior on the sphinx rendered scikit-learn.org. See: https://github.com/scikit-learn/scikit-learn/issues/21755 */display: inline-block !important;position: relative;}#sk-container-id-7 div.sk-text-repr-fallback {display: none;}</style><div id=\"sk-container-id-7\" class=\"sk-top-container\"><div class=\"sk-text-repr-fallback\"><pre>LinearRegression()</pre><b>In a Jupyter environment, please rerun this cell to show the HTML representation or trust the notebook. <br />On GitHub, the HTML representation is unable to render, please try loading this page with nbviewer.org.</b></div><div class=\"sk-container\" hidden><div class=\"sk-item\"><div class=\"sk-estimator sk-toggleable\"><input class=\"sk-toggleable__control sk-hidden--visually\" id=\"sk-estimator-id-7\" type=\"checkbox\" checked><label for=\"sk-estimator-id-7\" class=\"sk-toggleable__label sk-toggleable__label-arrow\">LinearRegression</label><div class=\"sk-toggleable__content\"><pre>LinearRegression()</pre></div></div></div></div></div>"
      ],
      "text/plain": [
       "LinearRegression()"
      ]
     },
     "execution_count": 72,
     "metadata": {},
     "output_type": "execute_result"
    }
   ],
   "source": [
    "model1.fit(x_train, y_train)"
   ]
  },
  {
   "cell_type": "code",
   "execution_count": 73,
   "id": "19483276-ea9a-4742-9577-262c75ec62b5",
   "metadata": {},
   "outputs": [],
   "source": [
    "y_pred = model1.predict(x_test)"
   ]
  },
  {
   "cell_type": "code",
   "execution_count": 74,
   "id": "9e9dda4f-d2cb-4c52-bcc7-a30a1f0d371c",
   "metadata": {},
   "outputs": [
    {
     "name": "stdout",
     "output_type": "stream",
     "text": [
      "MAE: 12831.141138021581\n",
      "R2: -16.643677650158583\n"
     ]
    }
   ],
   "source": [
    "print('MAE:', mean_absolute_error(y_test, y_pred))\n",
    "print('R2:', r2_score(y_test, y_pred))\n"
   ]
  },
  {
   "cell_type": "code",
   "execution_count": 75,
   "id": "05a8f431-5247-435f-b9cf-37cf978be90d",
   "metadata": {},
   "outputs": [],
   "source": [
    "from xgboost import XGBRegressor\n",
    "xgb_model = XGBRegressor()"
   ]
  },
  {
   "cell_type": "code",
   "execution_count": 76,
   "id": "606171ea-220e-484b-966b-03cc33d99a44",
   "metadata": {},
   "outputs": [
    {
     "data": {
      "text/html": [
       "<style>#sk-container-id-8 {color: black;background-color: white;}#sk-container-id-8 pre{padding: 0;}#sk-container-id-8 div.sk-toggleable {background-color: white;}#sk-container-id-8 label.sk-toggleable__label {cursor: pointer;display: block;width: 100%;margin-bottom: 0;padding: 0.3em;box-sizing: border-box;text-align: center;}#sk-container-id-8 label.sk-toggleable__label-arrow:before {content: \"▸\";float: left;margin-right: 0.25em;color: #696969;}#sk-container-id-8 label.sk-toggleable__label-arrow:hover:before {color: black;}#sk-container-id-8 div.sk-estimator:hover label.sk-toggleable__label-arrow:before {color: black;}#sk-container-id-8 div.sk-toggleable__content {max-height: 0;max-width: 0;overflow: hidden;text-align: left;background-color: #f0f8ff;}#sk-container-id-8 div.sk-toggleable__content pre {margin: 0.2em;color: black;border-radius: 0.25em;background-color: #f0f8ff;}#sk-container-id-8 input.sk-toggleable__control:checked~div.sk-toggleable__content {max-height: 200px;max-width: 100%;overflow: auto;}#sk-container-id-8 input.sk-toggleable__control:checked~label.sk-toggleable__label-arrow:before {content: \"▾\";}#sk-container-id-8 div.sk-estimator input.sk-toggleable__control:checked~label.sk-toggleable__label {background-color: #d4ebff;}#sk-container-id-8 div.sk-label input.sk-toggleable__control:checked~label.sk-toggleable__label {background-color: #d4ebff;}#sk-container-id-8 input.sk-hidden--visually {border: 0;clip: rect(1px 1px 1px 1px);clip: rect(1px, 1px, 1px, 1px);height: 1px;margin: -1px;overflow: hidden;padding: 0;position: absolute;width: 1px;}#sk-container-id-8 div.sk-estimator {font-family: monospace;background-color: #f0f8ff;border: 1px dotted black;border-radius: 0.25em;box-sizing: border-box;margin-bottom: 0.5em;}#sk-container-id-8 div.sk-estimator:hover {background-color: #d4ebff;}#sk-container-id-8 div.sk-parallel-item::after {content: \"\";width: 100%;border-bottom: 1px solid gray;flex-grow: 1;}#sk-container-id-8 div.sk-label:hover label.sk-toggleable__label {background-color: #d4ebff;}#sk-container-id-8 div.sk-serial::before {content: \"\";position: absolute;border-left: 1px solid gray;box-sizing: border-box;top: 0;bottom: 0;left: 50%;z-index: 0;}#sk-container-id-8 div.sk-serial {display: flex;flex-direction: column;align-items: center;background-color: white;padding-right: 0.2em;padding-left: 0.2em;position: relative;}#sk-container-id-8 div.sk-item {position: relative;z-index: 1;}#sk-container-id-8 div.sk-parallel {display: flex;align-items: stretch;justify-content: center;background-color: white;position: relative;}#sk-container-id-8 div.sk-item::before, #sk-container-id-8 div.sk-parallel-item::before {content: \"\";position: absolute;border-left: 1px solid gray;box-sizing: border-box;top: 0;bottom: 0;left: 50%;z-index: -1;}#sk-container-id-8 div.sk-parallel-item {display: flex;flex-direction: column;z-index: 1;position: relative;background-color: white;}#sk-container-id-8 div.sk-parallel-item:first-child::after {align-self: flex-end;width: 50%;}#sk-container-id-8 div.sk-parallel-item:last-child::after {align-self: flex-start;width: 50%;}#sk-container-id-8 div.sk-parallel-item:only-child::after {width: 0;}#sk-container-id-8 div.sk-dashed-wrapped {border: 1px dashed gray;margin: 0 0.4em 0.5em 0.4em;box-sizing: border-box;padding-bottom: 0.4em;background-color: white;}#sk-container-id-8 div.sk-label label {font-family: monospace;font-weight: bold;display: inline-block;line-height: 1.2em;}#sk-container-id-8 div.sk-label-container {text-align: center;}#sk-container-id-8 div.sk-container {/* jupyter's `normalize.less` sets `[hidden] { display: none; }` but bootstrap.min.css set `[hidden] { display: none !important; }` so we also need the `!important` here to be able to override the default hidden behavior on the sphinx rendered scikit-learn.org. See: https://github.com/scikit-learn/scikit-learn/issues/21755 */display: inline-block !important;position: relative;}#sk-container-id-8 div.sk-text-repr-fallback {display: none;}</style><div id=\"sk-container-id-8\" class=\"sk-top-container\"><div class=\"sk-text-repr-fallback\"><pre>XGBRegressor(base_score=0.5, booster=&#x27;gbtree&#x27;, callbacks=None,\n",
       "             colsample_bylevel=1, colsample_bynode=1, colsample_bytree=1,\n",
       "             early_stopping_rounds=None, enable_categorical=False,\n",
       "             eval_metric=None, gamma=0, gpu_id=-1, grow_policy=&#x27;depthwise&#x27;,\n",
       "             importance_type=None, interaction_constraints=&#x27;&#x27;,\n",
       "             learning_rate=0.300000012, max_bin=256, max_cat_to_onehot=4,\n",
       "             max_delta_step=0, max_depth=6, max_leaves=0, min_child_weight=1,\n",
       "             missing=nan, monotone_constraints=&#x27;()&#x27;, n_estimators=100, n_jobs=0,\n",
       "             num_parallel_tree=1, predictor=&#x27;auto&#x27;, random_state=0, reg_alpha=0,\n",
       "             reg_lambda=1, ...)</pre><b>In a Jupyter environment, please rerun this cell to show the HTML representation or trust the notebook. <br />On GitHub, the HTML representation is unable to render, please try loading this page with nbviewer.org.</b></div><div class=\"sk-container\" hidden><div class=\"sk-item\"><div class=\"sk-estimator sk-toggleable\"><input class=\"sk-toggleable__control sk-hidden--visually\" id=\"sk-estimator-id-8\" type=\"checkbox\" checked><label for=\"sk-estimator-id-8\" class=\"sk-toggleable__label sk-toggleable__label-arrow\">XGBRegressor</label><div class=\"sk-toggleable__content\"><pre>XGBRegressor(base_score=0.5, booster=&#x27;gbtree&#x27;, callbacks=None,\n",
       "             colsample_bylevel=1, colsample_bynode=1, colsample_bytree=1,\n",
       "             early_stopping_rounds=None, enable_categorical=False,\n",
       "             eval_metric=None, gamma=0, gpu_id=-1, grow_policy=&#x27;depthwise&#x27;,\n",
       "             importance_type=None, interaction_constraints=&#x27;&#x27;,\n",
       "             learning_rate=0.300000012, max_bin=256, max_cat_to_onehot=4,\n",
       "             max_delta_step=0, max_depth=6, max_leaves=0, min_child_weight=1,\n",
       "             missing=nan, monotone_constraints=&#x27;()&#x27;, n_estimators=100, n_jobs=0,\n",
       "             num_parallel_tree=1, predictor=&#x27;auto&#x27;, random_state=0, reg_alpha=0,\n",
       "             reg_lambda=1, ...)</pre></div></div></div></div></div>"
      ],
      "text/plain": [
       "XGBRegressor(base_score=0.5, booster='gbtree', callbacks=None,\n",
       "             colsample_bylevel=1, colsample_bynode=1, colsample_bytree=1,\n",
       "             early_stopping_rounds=None, enable_categorical=False,\n",
       "             eval_metric=None, gamma=0, gpu_id=-1, grow_policy='depthwise',\n",
       "             importance_type=None, interaction_constraints='',\n",
       "             learning_rate=0.300000012, max_bin=256, max_cat_to_onehot=4,\n",
       "             max_delta_step=0, max_depth=6, max_leaves=0, min_child_weight=1,\n",
       "             missing=nan, monotone_constraints='()', n_estimators=100, n_jobs=0,\n",
       "             num_parallel_tree=1, predictor='auto', random_state=0, reg_alpha=0,\n",
       "             reg_lambda=1, ...)"
      ]
     },
     "execution_count": 76,
     "metadata": {},
     "output_type": "execute_result"
    }
   ],
   "source": [
    "xgb_model.fit(x_train,y_train)"
   ]
  },
  {
   "cell_type": "code",
   "execution_count": 77,
   "id": "a8146ef5-c27b-4603-9d31-fc523af000b1",
   "metadata": {},
   "outputs": [],
   "source": [
    "y_pred = xgb_model.predict(x_test)"
   ]
  },
  {
   "cell_type": "code",
   "execution_count": 78,
   "id": "44f675a7-1478-423a-98dd-e71afe58b152",
   "metadata": {},
   "outputs": [
    {
     "name": "stdout",
     "output_type": "stream",
     "text": [
      "MAE: 1861.3352864583333\n",
      "R2: 0.3526658863323715\n"
     ]
    }
   ],
   "source": [
    "print('MAE:', mean_absolute_error(y_test, y_pred))\n",
    "print('R2:', r2_score(y_test, y_pred))"
   ]
  },
  {
   "cell_type": "code",
   "execution_count": 79,
   "id": "11a324fa-7b80-456d-af9a-4b3d4e9c9019",
   "metadata": {},
   "outputs": [],
   "source": [
    "from sklearn.ensemble import RandomForestRegressor\n",
    "model2 = RandomForestRegressor()"
   ]
  },
  {
   "cell_type": "code",
   "execution_count": 80,
   "id": "8262ee40-5256-46e4-98d2-f9e9987c38c4",
   "metadata": {},
   "outputs": [
    {
     "data": {
      "text/html": [
       "<style>#sk-container-id-9 {color: black;background-color: white;}#sk-container-id-9 pre{padding: 0;}#sk-container-id-9 div.sk-toggleable {background-color: white;}#sk-container-id-9 label.sk-toggleable__label {cursor: pointer;display: block;width: 100%;margin-bottom: 0;padding: 0.3em;box-sizing: border-box;text-align: center;}#sk-container-id-9 label.sk-toggleable__label-arrow:before {content: \"▸\";float: left;margin-right: 0.25em;color: #696969;}#sk-container-id-9 label.sk-toggleable__label-arrow:hover:before {color: black;}#sk-container-id-9 div.sk-estimator:hover label.sk-toggleable__label-arrow:before {color: black;}#sk-container-id-9 div.sk-toggleable__content {max-height: 0;max-width: 0;overflow: hidden;text-align: left;background-color: #f0f8ff;}#sk-container-id-9 div.sk-toggleable__content pre {margin: 0.2em;color: black;border-radius: 0.25em;background-color: #f0f8ff;}#sk-container-id-9 input.sk-toggleable__control:checked~div.sk-toggleable__content {max-height: 200px;max-width: 100%;overflow: auto;}#sk-container-id-9 input.sk-toggleable__control:checked~label.sk-toggleable__label-arrow:before {content: \"▾\";}#sk-container-id-9 div.sk-estimator input.sk-toggleable__control:checked~label.sk-toggleable__label {background-color: #d4ebff;}#sk-container-id-9 div.sk-label input.sk-toggleable__control:checked~label.sk-toggleable__label {background-color: #d4ebff;}#sk-container-id-9 input.sk-hidden--visually {border: 0;clip: rect(1px 1px 1px 1px);clip: rect(1px, 1px, 1px, 1px);height: 1px;margin: -1px;overflow: hidden;padding: 0;position: absolute;width: 1px;}#sk-container-id-9 div.sk-estimator {font-family: monospace;background-color: #f0f8ff;border: 1px dotted black;border-radius: 0.25em;box-sizing: border-box;margin-bottom: 0.5em;}#sk-container-id-9 div.sk-estimator:hover {background-color: #d4ebff;}#sk-container-id-9 div.sk-parallel-item::after {content: \"\";width: 100%;border-bottom: 1px solid gray;flex-grow: 1;}#sk-container-id-9 div.sk-label:hover label.sk-toggleable__label {background-color: #d4ebff;}#sk-container-id-9 div.sk-serial::before {content: \"\";position: absolute;border-left: 1px solid gray;box-sizing: border-box;top: 0;bottom: 0;left: 50%;z-index: 0;}#sk-container-id-9 div.sk-serial {display: flex;flex-direction: column;align-items: center;background-color: white;padding-right: 0.2em;padding-left: 0.2em;position: relative;}#sk-container-id-9 div.sk-item {position: relative;z-index: 1;}#sk-container-id-9 div.sk-parallel {display: flex;align-items: stretch;justify-content: center;background-color: white;position: relative;}#sk-container-id-9 div.sk-item::before, #sk-container-id-9 div.sk-parallel-item::before {content: \"\";position: absolute;border-left: 1px solid gray;box-sizing: border-box;top: 0;bottom: 0;left: 50%;z-index: -1;}#sk-container-id-9 div.sk-parallel-item {display: flex;flex-direction: column;z-index: 1;position: relative;background-color: white;}#sk-container-id-9 div.sk-parallel-item:first-child::after {align-self: flex-end;width: 50%;}#sk-container-id-9 div.sk-parallel-item:last-child::after {align-self: flex-start;width: 50%;}#sk-container-id-9 div.sk-parallel-item:only-child::after {width: 0;}#sk-container-id-9 div.sk-dashed-wrapped {border: 1px dashed gray;margin: 0 0.4em 0.5em 0.4em;box-sizing: border-box;padding-bottom: 0.4em;background-color: white;}#sk-container-id-9 div.sk-label label {font-family: monospace;font-weight: bold;display: inline-block;line-height: 1.2em;}#sk-container-id-9 div.sk-label-container {text-align: center;}#sk-container-id-9 div.sk-container {/* jupyter's `normalize.less` sets `[hidden] { display: none; }` but bootstrap.min.css set `[hidden] { display: none !important; }` so we also need the `!important` here to be able to override the default hidden behavior on the sphinx rendered scikit-learn.org. See: https://github.com/scikit-learn/scikit-learn/issues/21755 */display: inline-block !important;position: relative;}#sk-container-id-9 div.sk-text-repr-fallback {display: none;}</style><div id=\"sk-container-id-9\" class=\"sk-top-container\"><div class=\"sk-text-repr-fallback\"><pre>RandomForestRegressor()</pre><b>In a Jupyter environment, please rerun this cell to show the HTML representation or trust the notebook. <br />On GitHub, the HTML representation is unable to render, please try loading this page with nbviewer.org.</b></div><div class=\"sk-container\" hidden><div class=\"sk-item\"><div class=\"sk-estimator sk-toggleable\"><input class=\"sk-toggleable__control sk-hidden--visually\" id=\"sk-estimator-id-9\" type=\"checkbox\" checked><label for=\"sk-estimator-id-9\" class=\"sk-toggleable__label sk-toggleable__label-arrow\">RandomForestRegressor</label><div class=\"sk-toggleable__content\"><pre>RandomForestRegressor()</pre></div></div></div></div></div>"
      ],
      "text/plain": [
       "RandomForestRegressor()"
      ]
     },
     "execution_count": 80,
     "metadata": {},
     "output_type": "execute_result"
    }
   ],
   "source": [
    "model2.fit(x_train, y_train)"
   ]
  },
  {
   "cell_type": "code",
   "execution_count": 83,
   "id": "091b021a-e5cc-4366-99aa-021745bc6091",
   "metadata": {},
   "outputs": [],
   "source": [
    "y_pred = model2.predict(x_test)"
   ]
  },
  {
   "cell_type": "code",
   "execution_count": 84,
   "id": "672d49a7-0582-4626-83d1-7af2e91d1b87",
   "metadata": {},
   "outputs": [
    {
     "name": "stdout",
     "output_type": "stream",
     "text": [
      "MAE: 2262.216666666666\n",
      "R2: 0.47082148767509435\n"
     ]
    }
   ],
   "source": [
    "print('MAE:', mean_absolute_error(y_test, y_pred))\n",
    "print('R2:', r2_score(y_test, y_pred))"
   ]
  },
  {
   "cell_type": "code",
   "execution_count": 85,
   "id": "5f3d6193-a746-4cc2-87a0-c2d66ca4ec4d",
   "metadata": {},
   "outputs": [],
   "source": [
    "from sklearn.tree import DecisionTreeRegressor\n",
    "model3 = DecisionTreeRegressor(max_depth = 5)"
   ]
  },
  {
   "cell_type": "code",
   "execution_count": 86,
   "id": "ed1c5b2e-70ee-4534-b455-e0c4e1e4eaf6",
   "metadata": {},
   "outputs": [
    {
     "data": {
      "text/html": [
       "<style>#sk-container-id-10 {color: black;background-color: white;}#sk-container-id-10 pre{padding: 0;}#sk-container-id-10 div.sk-toggleable {background-color: white;}#sk-container-id-10 label.sk-toggleable__label {cursor: pointer;display: block;width: 100%;margin-bottom: 0;padding: 0.3em;box-sizing: border-box;text-align: center;}#sk-container-id-10 label.sk-toggleable__label-arrow:before {content: \"▸\";float: left;margin-right: 0.25em;color: #696969;}#sk-container-id-10 label.sk-toggleable__label-arrow:hover:before {color: black;}#sk-container-id-10 div.sk-estimator:hover label.sk-toggleable__label-arrow:before {color: black;}#sk-container-id-10 div.sk-toggleable__content {max-height: 0;max-width: 0;overflow: hidden;text-align: left;background-color: #f0f8ff;}#sk-container-id-10 div.sk-toggleable__content pre {margin: 0.2em;color: black;border-radius: 0.25em;background-color: #f0f8ff;}#sk-container-id-10 input.sk-toggleable__control:checked~div.sk-toggleable__content {max-height: 200px;max-width: 100%;overflow: auto;}#sk-container-id-10 input.sk-toggleable__control:checked~label.sk-toggleable__label-arrow:before {content: \"▾\";}#sk-container-id-10 div.sk-estimator input.sk-toggleable__control:checked~label.sk-toggleable__label {background-color: #d4ebff;}#sk-container-id-10 div.sk-label input.sk-toggleable__control:checked~label.sk-toggleable__label {background-color: #d4ebff;}#sk-container-id-10 input.sk-hidden--visually {border: 0;clip: rect(1px 1px 1px 1px);clip: rect(1px, 1px, 1px, 1px);height: 1px;margin: -1px;overflow: hidden;padding: 0;position: absolute;width: 1px;}#sk-container-id-10 div.sk-estimator {font-family: monospace;background-color: #f0f8ff;border: 1px dotted black;border-radius: 0.25em;box-sizing: border-box;margin-bottom: 0.5em;}#sk-container-id-10 div.sk-estimator:hover {background-color: #d4ebff;}#sk-container-id-10 div.sk-parallel-item::after {content: \"\";width: 100%;border-bottom: 1px solid gray;flex-grow: 1;}#sk-container-id-10 div.sk-label:hover label.sk-toggleable__label {background-color: #d4ebff;}#sk-container-id-10 div.sk-serial::before {content: \"\";position: absolute;border-left: 1px solid gray;box-sizing: border-box;top: 0;bottom: 0;left: 50%;z-index: 0;}#sk-container-id-10 div.sk-serial {display: flex;flex-direction: column;align-items: center;background-color: white;padding-right: 0.2em;padding-left: 0.2em;position: relative;}#sk-container-id-10 div.sk-item {position: relative;z-index: 1;}#sk-container-id-10 div.sk-parallel {display: flex;align-items: stretch;justify-content: center;background-color: white;position: relative;}#sk-container-id-10 div.sk-item::before, #sk-container-id-10 div.sk-parallel-item::before {content: \"\";position: absolute;border-left: 1px solid gray;box-sizing: border-box;top: 0;bottom: 0;left: 50%;z-index: -1;}#sk-container-id-10 div.sk-parallel-item {display: flex;flex-direction: column;z-index: 1;position: relative;background-color: white;}#sk-container-id-10 div.sk-parallel-item:first-child::after {align-self: flex-end;width: 50%;}#sk-container-id-10 div.sk-parallel-item:last-child::after {align-self: flex-start;width: 50%;}#sk-container-id-10 div.sk-parallel-item:only-child::after {width: 0;}#sk-container-id-10 div.sk-dashed-wrapped {border: 1px dashed gray;margin: 0 0.4em 0.5em 0.4em;box-sizing: border-box;padding-bottom: 0.4em;background-color: white;}#sk-container-id-10 div.sk-label label {font-family: monospace;font-weight: bold;display: inline-block;line-height: 1.2em;}#sk-container-id-10 div.sk-label-container {text-align: center;}#sk-container-id-10 div.sk-container {/* jupyter's `normalize.less` sets `[hidden] { display: none; }` but bootstrap.min.css set `[hidden] { display: none !important; }` so we also need the `!important` here to be able to override the default hidden behavior on the sphinx rendered scikit-learn.org. See: https://github.com/scikit-learn/scikit-learn/issues/21755 */display: inline-block !important;position: relative;}#sk-container-id-10 div.sk-text-repr-fallback {display: none;}</style><div id=\"sk-container-id-10\" class=\"sk-top-container\"><div class=\"sk-text-repr-fallback\"><pre>DecisionTreeRegressor(max_depth=5)</pre><b>In a Jupyter environment, please rerun this cell to show the HTML representation or trust the notebook. <br />On GitHub, the HTML representation is unable to render, please try loading this page with nbviewer.org.</b></div><div class=\"sk-container\" hidden><div class=\"sk-item\"><div class=\"sk-estimator sk-toggleable\"><input class=\"sk-toggleable__control sk-hidden--visually\" id=\"sk-estimator-id-10\" type=\"checkbox\" checked><label for=\"sk-estimator-id-10\" class=\"sk-toggleable__label sk-toggleable__label-arrow\">DecisionTreeRegressor</label><div class=\"sk-toggleable__content\"><pre>DecisionTreeRegressor(max_depth=5)</pre></div></div></div></div></div>"
      ],
      "text/plain": [
       "DecisionTreeRegressor(max_depth=5)"
      ]
     },
     "execution_count": 86,
     "metadata": {},
     "output_type": "execute_result"
    }
   ],
   "source": [
    "model3.fit(x_train, y_train)"
   ]
  },
  {
   "cell_type": "code",
   "execution_count": 87,
   "id": "f9dd5726-5ee1-43dc-b5ee-0e4274475ba0",
   "metadata": {},
   "outputs": [],
   "source": [
    "y_pred = model3.predict(x_test)"
   ]
  },
  {
   "cell_type": "code",
   "execution_count": 88,
   "id": "5bd03008-21b6-4e92-9eee-ce5b6de0aa55",
   "metadata": {},
   "outputs": [
    {
     "name": "stdout",
     "output_type": "stream",
     "text": [
      "MAE: 741.3333333333334\n",
      "R2: 0.9318470048192791\n"
     ]
    }
   ],
   "source": [
    "print('MAE:', mean_absolute_error(y_test, y_pred))\n",
    "print('R2:', r2_score(y_test, y_pred))"
   ]
  },
  {
   "cell_type": "markdown",
   "id": "330c3885-223f-4d9c-b4e6-5fe252ea445d",
   "metadata": {},
   "source": [
    "정답"
   ]
  },
  {
   "cell_type": "code",
   "execution_count": 91,
   "id": "a01705bf-cf27-47b0-a28e-73569a68e825",
   "metadata": {},
   "outputs": [],
   "source": [
    "solution = pd.DataFrame([[4,19290]],columns = list(x_test))"
   ]
  },
  {
   "cell_type": "code",
   "execution_count": 93,
   "id": "7a93949d-1d81-4ee4-ac3c-785f41c32047",
   "metadata": {},
   "outputs": [
    {
     "name": "stdout",
     "output_type": "stream",
     "text": [
      "[38695.20971687]\n",
      "[28325.13]\n",
      "[29862.]\n",
      "[29861.994]\n"
     ]
    }
   ],
   "source": [
    "print(model1.predict(solution))\n",
    "print(model2.predict(solution))\n",
    "print(model3.predict(solution))\n",
    "print(xgb_model.predict(solution))"
   ]
  },
  {
   "cell_type": "code",
   "execution_count": 95,
   "id": "3ae23049-ac12-4ee4-a86c-fd2eec7e8d6e",
   "metadata": {},
   "outputs": [
    {
     "data": {
      "text/plain": [
       "'08:17:42'"
      ]
     },
     "execution_count": 95,
     "metadata": {},
     "output_type": "execute_result"
    }
   ],
   "source": [
    "seconds_to_datetime(29862)"
   ]
  }
 ],
 "metadata": {
  "kernelspec": {
   "display_name": "Python 3",
   "language": "python",
   "name": "python3"
  },
  "language_info": {
   "codemirror_mode": {
    "name": "ipython",
    "version": 3
   },
   "file_extension": ".py",
   "mimetype": "text/x-python",
   "name": "python",
   "nbconvert_exporter": "python",
   "pygments_lexer": "ipython3",
   "version": "3.8.8"
  }
 },
 "nbformat": 4,
 "nbformat_minor": 5
}
